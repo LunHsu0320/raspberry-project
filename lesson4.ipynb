{
 "cells": [
  {
   "cell_type": "code",
   "execution_count": 7,
   "metadata": {},
   "outputs": [
    {
     "name": "stdout",
     "output_type": "stream",
     "text": [
      "1-2-3"
     ]
    }
   ],
   "source": [
    "print(1,2,3,sep='-',end='')"
   ]
  },
  {
   "cell_type": "code",
   "execution_count": 9,
   "metadata": {},
   "outputs": [
    {
     "name": "stdout",
     "output_type": "stream",
     "text": [
      "{'one': 1, 'two': 2, 'three': 3, 'ten': 10}\n"
     ]
    }
   ],
   "source": [
    "def myfunc1(**kwarge):\n",
    "    print(kwarge)\n",
    "    \n",
    "myfunc1(one=1,two=2,three=3,ten=10)    "
   ]
  },
  {
   "cell_type": "code",
   "execution_count": 35,
   "metadata": {},
   "outputs": [],
   "source": [
    "class person(object):\n",
    "    #attribute\n",
    "    def __init__(self,name,age=18,gender='male'):\n",
    "        self.name=name\n",
    "        self.age= age\n",
    "        self.gender= gender\n",
    "        \n",
    "    def description(self):\n",
    "        print(\"Name: \",self.name)\n",
    "        print(\"Age: \",self.age)\n",
    "        print(\"Gender: \",self.gender)\n",
    "        \n",
    "class Student(person):\n",
    "    def __init__(self,name,age,gerder):\n",
    "        super().__init__(name,age=age,gender=gender)"
   ]
  },
  {
   "cell_type": "code",
   "execution_count": 25,
   "metadata": {},
   "outputs": [
    {
     "name": "stdout",
     "output_type": "stream",
     "text": [
      "John\n",
      "36\n",
      "Female\n"
     ]
    }
   ],
   "source": [
    "p1= person(\"John\",36,\"Female\")\n",
    "\n",
    "print(p1.name)\n",
    "print(p1.age)\n",
    "print(p1.gender)"
   ]
  },
  {
   "cell_type": "code",
   "execution_count": 28,
   "metadata": {},
   "outputs": [
    {
     "name": "stdout",
     "output_type": "stream",
     "text": [
      "Lisa\n",
      "18\n",
      "male\n"
     ]
    }
   ],
   "source": [
    "p2=person(\"Lisa\")\n",
    "print(p2.name)\n",
    "print(p2.age)\n",
    "print(p2.gender)"
   ]
  },
  {
   "cell_type": "code",
   "execution_count": 31,
   "metadata": {},
   "outputs": [
    {
     "name": "stdout",
     "output_type": "stream",
     "text": [
      "Name:  Lisa\n",
      "Age:  18\n",
      "Gender:  male\n"
     ]
    }
   ],
   "source": [
    "p2=person(\"Lisa\")\n",
    "p2.description()"
   ]
  },
  {
   "cell_type": "code",
   "execution_count": 36,
   "metadata": {},
   "outputs": [
    {
     "name": "stdout",
     "output_type": "stream",
     "text": [
      "Name:  Lia\n",
      "Age:  22\n",
      "Gender:  Female\n"
     ]
    }
   ],
   "source": [
    "s1=Student()\n",
    "s1.description()"
   ]
  }
 ],
 "metadata": {
  "kernelspec": {
   "display_name": "Python 3",
   "language": "python",
   "name": "python3"
  },
  "language_info": {
   "codemirror_mode": {
    "name": "ipython",
    "version": 3
   },
   "file_extension": ".py",
   "mimetype": "text/x-python",
   "name": "python",
   "nbconvert_exporter": "python",
   "pygments_lexer": "ipython3",
   "version": "3.9.2"
  },
  "orig_nbformat": 4
 },
 "nbformat": 4,
 "nbformat_minor": 2
}
