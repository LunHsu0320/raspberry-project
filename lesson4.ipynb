{
 "cells": [
  {
   "cell_type": "code",
   "execution_count": 7,
   "metadata": {},
   "outputs": [
    {
     "name": "stdout",
     "output_type": "stream",
     "text": [
      "1-2-3"
     ]
    }
   ],
   "source": [
    "print(1,2,3,sep='-',end='')"
   ]
  },
  {
   "cell_type": "code",
   "execution_count": 9,
   "metadata": {},
   "outputs": [
    {
     "name": "stdout",
     "output_type": "stream",
     "text": [
      "{'one': 1, 'two': 2, 'three': 3, 'ten': 10}\n"
     ]
    }
   ],
   "source": [
    "def myfunc1(**kwarge):\n",
    "    print(kwarge)\n",
    "    \n",
    "myfunc1(one=1,two=2,three=3,ten=10)    "
   ]
  },
  {
   "cell_type": "code",
   "execution_count": 11,
   "metadata": {},
   "outputs": [],
   "source": [
    "class person(object):\n",
    "    #attribute\n",
    "    def __init__(self):\n",
    "        self.name=\"Bob\"\n",
    "        self.age= 30\n",
    "        self.gender= \"male\""
   ]
  },
  {
   "cell_type": "code",
   "execution_count": 13,
   "metadata": {},
   "outputs": [
    {
     "name": "stdout",
     "output_type": "stream",
     "text": [
      "John\n",
      "36\n",
      "Female\n"
     ]
    }
   ],
   "source": [
    "p1= person()\n",
    "p1.name=\"John\"\n",
    "p1.age=36\n",
    "p1.gender=\"Female\"\n",
    "\n",
    "print(p1.name)\n",
    "print(p1.age)\n",
    "print(p1.gender)"
   ]
  }
 ],
 "metadata": {
  "kernelspec": {
   "display_name": "Python 3",
   "language": "python",
   "name": "python3"
  },
  "language_info": {
   "codemirror_mode": {
    "name": "ipython",
    "version": 3
   },
   "file_extension": ".py",
   "mimetype": "text/x-python",
   "name": "python",
   "nbconvert_exporter": "python",
   "pygments_lexer": "ipython3",
   "version": "3.9.2"
  },
  "orig_nbformat": 4
 },
 "nbformat": 4,
 "nbformat_minor": 2
}
